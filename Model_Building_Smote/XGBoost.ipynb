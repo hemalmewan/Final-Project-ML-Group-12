{
 "cells": [
  {
   "cell_type": "markdown",
   "id": "ce6524cf",
   "metadata": {},
   "source": [
    "### **Import Required Libraries**"
   ]
  },
  {
   "cell_type": "code",
   "execution_count": null,
   "id": "c5d4b54b",
   "metadata": {},
   "outputs": [],
   "source": [
    "import pandas as pd\n",
    "from xgboost import XGBClassifier\n",
    "from imblearn.over_sampling import SMOTE\n",
    "from sklearn.compose import ColumnTransformer\n",
    "from sklearn.preprocessing import OrdinalEncoder,OneHotEncoder\n",
    "from sklearn.metrics import accuracy_score,precision_score,recall_score,classification_report\n",
    "from sklearn.model_selection import GridSearchCV\n",
    "from imblearn.pipeline import Pipeline"
   ]
  },
  {
   "cell_type": "markdown",
   "id": "853d1370",
   "metadata": {},
   "source": [
    "### **Import Datasets**"
   ]
  },
  {
   "cell_type": "code",
   "execution_count": null,
   "id": "bfd21b19",
   "metadata": {},
   "outputs": [],
   "source": [
    "train_data=pd.read_csv(\"../dataset/train_data.csv\")\n",
    "test_data=pd.read_csv(\"../dataset/test_data.csv\")"
   ]
  },
  {
   "cell_type": "code",
   "execution_count": null,
   "id": "f4931a17",
   "metadata": {},
   "outputs": [],
   "source": [
    "print(f\"Shape of the Training data:{train_data.shape}\")\n",
    "print(f\"Shape of the Testing data:{test_data.shape}\")"
   ]
  },
  {
   "cell_type": "markdown",
   "id": "b74b7b73",
   "metadata": {},
   "source": [
    "### **Drop unecessary Columns**"
   ]
  },
  {
   "cell_type": "code",
   "execution_count": null,
   "id": "a45ecdba",
   "metadata": {},
   "outputs": [],
   "source": [
    "train_data=train_data.drop([\"Unnamed: 0\"],axis=1)\n",
    "test_data=test_data.drop([\"Unnamed: 0\"],axis=1)"
   ]
  },
  {
   "cell_type": "code",
   "execution_count": null,
   "id": "1ddf9954",
   "metadata": {},
   "outputs": [],
   "source": [
    "##split train data into the X_train and Y_train\n",
    "X_train=train_data.drop([\"delivery_status\"],axis=1)\n",
    "Y_train=train_data[\"delivery_status\"]"
   ]
  },
  {
   "cell_type": "markdown",
   "id": "e06eda16",
   "metadata": {},
   "source": [
    "### **Model Building**"
   ]
  },
  {
   "cell_type": "code",
   "execution_count": null,
   "id": "62f68f0e",
   "metadata": {},
   "outputs": [],
   "source": [
    "# ### Numbercal columns \n",
    "numerical_features=X_train.select_dtypes(include=\"number\").columns.to_list()\n",
    "categorical_features=X_train.select_dtypes(include=\"object\").columns.to_list()\n",
    "\n",
    "# ##Nominal variables\n",
    "categorical_features.remove(\"brand\")\n",
    "##Ordinal variables\n",
    "ordinal_features=[\"brand\"]"
   ]
  },
  {
   "cell_type": "code",
   "execution_count": null,
   "id": "2411c080",
   "metadata": {},
   "outputs": [],
   "source": [
    "##mapping y_train variable with the numeric values\n",
    "y_map={\"Failed Delivery\":0,\"On Going\":1,\"Delivered\":2}\n",
    "Y_train=Y_train.map(y_map)"
   ]
  },
  {
   "cell_type": "code",
   "execution_count": null,
   "id": "21fc320c",
   "metadata": {},
   "outputs": [],
   "source": [
    "### Define pipelines\n",
    "nominal_pipeline=Pipeline(steps=[\n",
    "    (\"One-Hot-Encoder\",OneHotEncoder(sparse_output=False,handle_unknown=\"ignore\"))\n",
    "])\n",
    "ordinal_pipeline=Pipeline(steps=[\n",
    "    (\"Ordinal-Encoder\",OrdinalEncoder())\n",
    "])\n",
    "\n",
    "transfomer=ColumnTransformer(transformers=[\n",
    "    (\"Nominal Pipeline\",nominal_pipeline,categorical_features),\n",
    "    (\"Ordinal Pipeline\",ordinal_pipeline,ordinal_features)\n",
    "])\n",
    "\n",
    "final_pipeline=Pipeline(steps=[\n",
    "    (\"Transformer\",transfomer),\n",
    "    (\"Resampling SMOTE\",SMOTE(random_state=42)), ##resample\n",
    "    (\"xgb\",XGBClassifier(random_state=42))\n",
    "])\n",
    "\n",
    "## Execute Pipeline\n",
    "final_pipeline.fit(X_train,Y_train)"
   ]
  },
  {
   "cell_type": "markdown",
   "id": "6a2fac25",
   "metadata": {},
   "source": [
    "### **Model Evaluation**"
   ]
  },
  {
   "cell_type": "code",
   "execution_count": null,
   "id": "2c694139",
   "metadata": {},
   "outputs": [],
   "source": [
    "##split test data into the X_test and Y_test\n",
    "X_test=test_data.drop([\"delivery_status\"],axis=1)\n",
    "Y_test=test_data[\"delivery_status\"]"
   ]
  },
  {
   "cell_type": "code",
   "execution_count": null,
   "id": "0e635acb",
   "metadata": {},
   "outputs": [],
   "source": [
    "##mapping y_test variable with the numeric values\n",
    "y_map={\"Failed Delivery\":0,\"On Going\":1,\"Delivered\":2}\n",
    "Y_test=Y_test.map(y_map)"
   ]
  },
  {
   "cell_type": "code",
   "execution_count": null,
   "id": "3ea40d9d",
   "metadata": {},
   "outputs": [],
   "source": [
    "y_pred=final_pipeline.predict(X_test) ##get the predicted values"
   ]
  },
  {
   "cell_type": "code",
   "execution_count": null,
   "id": "1f8d03b4",
   "metadata": {},
   "outputs": [],
   "source": [
    "##print the classification report\n",
    "print(classification_report(Y_test,y_pred))"
   ]
  },
  {
   "cell_type": "code",
   "execution_count": null,
   "id": "4f1f01b0",
   "metadata": {},
   "outputs": [],
   "source": [
    "y_pred_train=final_pipeline.predict(X_train)"
   ]
  },
  {
   "cell_type": "code",
   "execution_count": null,
   "id": "4208c27a",
   "metadata": {},
   "outputs": [],
   "source": [
    "##print the classification report\n",
    "print(classification_report(Y_train,y_pred_train))"
   ]
  }
 ],
 "metadata": {
  "language_info": {
   "name": "python"
  }
 },
 "nbformat": 4,
 "nbformat_minor": 5
}
